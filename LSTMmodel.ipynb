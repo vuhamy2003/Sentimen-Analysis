{
 "cells": [
  {
   "cell_type": "code",
   "execution_count": 1,
   "metadata": {},
   "outputs": [],
   "source": [
    "import pandas as pd\n",
    "import numpy as np\n",
    "import re\n",
    "from sklearn.model_selection import train_test_split\n",
    "from sklearn.feature_extraction.text import TfidfVectorizer\n",
    "from underthesea import word_tokenize\n",
    "from collections import Counter\n",
    "from sklearn.metrics import precision_score, recall_score, f1_score, accuracy_score\n",
    "from sklearn.preprocessing import LabelEncoder\n",
    "from imblearn.over_sampling import SMOTE\n",
    "import keras\n",
    "from sklearn.model_selection import train_test_split\n",
    "from tensorflow.keras.preprocessing.sequence import pad_sequences\n",
    "from tensorflow.keras.models import Sequential\n",
    "from tensorflow.keras.layers import Embedding, LSTM, Dense, Dropout\n",
    "from sklearn.metrics import classification_report\n",
    "from tensorflow.keras.callbacks import EarlyStopping"
   ]
  },
  {
   "cell_type": "markdown",
   "metadata": {},
   "source": [
    "# Nhập dữ liệu"
   ]
  },
  {
   "cell_type": "code",
   "execution_count": 2,
   "metadata": {},
   "outputs": [],
   "source": [
    "# Load data\n",
    "df = pd.read_csv('./data/product_df.csv')\n",
    "df = df[['Star Rating', 'Comment']]"
   ]
  },
  {
   "cell_type": "markdown",
   "metadata": {},
   "source": [
    "# Gắn nhãn cho bộ dữ liệu"
   ]
  },
  {
   "cell_type": "code",
   "execution_count": 3,
   "metadata": {},
   "outputs": [
    {
     "name": "stdout",
     "output_type": "stream",
     "text": [
      "   Star Rating                                            Comment Sentiment\n",
      "0            4                      Điện thoại này dùng rất thích         2\n",
      "1            4                               sử dụng thấy cũng ok         2\n",
      "2            2                      Bảo hành ít quá, chỉ 12 tháng         0\n",
      "3            5                             Sản phẩm mượt, chạy êm         2\n",
      "4            3  Cho mình hỏi muốn khởi động lại máy hay tắt ng...         1\n"
     ]
    }
   ],
   "source": [
    "def label_sentiment(rating):\n",
    "    if rating in [1, 2]:\n",
    "        return '0'\n",
    "    elif rating == 3:\n",
    "        return '1'\n",
    "    elif rating in [4, 5]:\n",
    "        return '2'\n",
    "    else:\n",
    "        return '3'  # Nếu có xếp hạng nằm ngoài khoảng 1-5\n",
    "\n",
    "# Gắn nhãn cảm xúc cho mỗi đánh giá\n",
    "df['Sentiment'] = df['Star Rating'].apply(label_sentiment)\n",
    "\n",
    "# Hiển thị 5 hàng đầu tiên của dataframe với cột sentiment mới\n",
    "print(df.head())"
   ]
  },
  {
   "cell_type": "markdown",
   "metadata": {},
   "source": [
    "# Tiền xử lý dữ liệu"
   ]
  },
  {
   "cell_type": "code",
   "execution_count": 4,
   "metadata": {},
   "outputs": [
    {
     "name": "stdout",
     "output_type": "stream",
     "text": [
      "Star Rating    0\n",
      "Comment        0\n",
      "Sentiment      0\n",
      "dtype: int64\n",
      "Star Rating    0\n",
      "Comment        0\n",
      "Sentiment      0\n",
      "dtype: int64\n",
      "Các dòng dữ liệu trùng lặp trong cột 'Comment':\n",
      "      Star Rating                                   Comment Sentiment\n",
      "48              4                                   Rất tốt         2\n",
      "76              5                                    Rất ok         2\n",
      "107             2                             pin tụt nhanh         0\n",
      "135             5                              sản phẩm tốt         2\n",
      "173             2                             hao pin nhanh         0\n",
      "177             5                              sản phẩm tốt         2\n",
      "181             5                                    Rất ok         2\n",
      "183             5                              sản phẩm tốt         2\n",
      "192             5                               sản phẩm ok         2\n",
      "205             5                               máy dùng ok         2\n",
      "225             4                                       Tốt         2\n",
      "227             5                               sản phẩm ok         2\n",
      "237             5                               máy dùng ok         2\n",
      "250             5                              sản phẩm tốt         2\n",
      "426             4                              máy dùng tốt         2\n",
      "435             5                                   Rất tốt         2\n",
      "461             4                                       Tốt         2\n",
      "516             5                                       Tốt         2\n",
      "526             4                                       Tốt         2\n",
      "529             4                                    Tạm ổn         2\n",
      "547             5                              Sản phẩm tốt         2\n",
      "549             5                                  Cũng tốt         2\n",
      "568             4                                  Hài lòng         2\n",
      "570             5                          Máy dùng rất tốt         2\n",
      "592             5                                       Tốt         2\n",
      "647             5                                   Rất tốt         2\n",
      "683             5                                       Tốt         2\n",
      "744             5                                       Tốt         2\n",
      "976             5                          Máy dùng rất tốt         2\n",
      "982             4                                 Tuyệt vời         2\n",
      "1153            5                                      Tốt.         2\n",
      "1160            5                          Máy sử dụng tốt.         2\n",
      "1163            5                                      Tốt.         2\n",
      "1237            5                                 Khá được.         2\n",
      "1244            4                                     Được.         2\n",
      "1260            5                             Rất hài lòng.         2\n",
      "1271            4                     Hiện tại sử dụng tốt.         2\n",
      "1272            5                         Tôi rất hài lòng.         2\n",
      "1273            4  Sản phẩm được. Hợp túi tiền dùng tạm ổn.         2\n",
      "1280            5                             Rất hài lòng.         2\n",
      "1283            5                                     Được.         2\n",
      "1311            5                             Dùng rất tốt.         2\n",
      "1328            5                  Điện thoại dùng rất tốt.         2\n",
      "1338            4                             Sản phẩm tốt.         2\n",
      "1409            5                                     Được.         2\n",
      "1443            4                                 Dùng tốt.         2\n",
      "Shape after dropping duplicates: (1498, 3)\n"
     ]
    }
   ],
   "source": [
    "# Kiểm tra và loại bỏ giá trị khuyết thiếu\n",
    "print(df.isnull().sum())\n",
    "df = df.dropna(subset=['Comment'])\n",
    "# Kiểm tra và loại bỏ giá trị khuyết thiếu\n",
    "print(df.isnull().sum())\n",
    "df = df.dropna(subset=['Comment'])\n",
    "# Kiểm tra và loại bỏ dữ liệu trùng lặp\n",
    "duplicate_comments = df[df.duplicated(['Comment'])]\n",
    "print(\"Các dòng dữ liệu trùng lặp trong cột 'Comment':\")\n",
    "print(duplicate_comments)\n",
    "df = df.drop_duplicates(['Comment'])\n",
    "print(\"Shape after dropping duplicates:\", df.shape)"
   ]
  },
  {
   "cell_type": "code",
   "execution_count": 5,
   "metadata": {},
   "outputs": [
    {
     "name": "stdout",
     "output_type": "stream",
     "text": [
      "   Star Rating                                            Comment Sentiment\n",
      "0            4                      điện thoại này dùng rất thích         2\n",
      "1            4                               sử dụng thấy cũng ok         2\n",
      "2            2                       bảo hành ít quá chỉ 12 tháng         0\n",
      "3            5                              sản phẩm mượt chạy êm         2\n",
      "4            3  cho mình hỏi muốn khởi động lại máy hay tắt ng...         1\n"
     ]
    }
   ],
   "source": [
    "# Chuẩn hóa và làm sạch văn bản\n",
    "def remove_special_characters(text):\n",
    "    # Loại bỏ các ký tự đặc biệt, giữ lại chữ cái, số, và các dấu câu\n",
    "    return re.sub(r'[^a-zA-ZÀ-ỹà-ỹ0-9\\s]', '', text)\n",
    "\n",
    "def to_lowercase(text):\n",
    "    # Chuyển đổi văn bản về chữ thường\n",
    "    return text.lower()\n",
    "\n",
    "def normalize_text(text):\n",
    "    text = remove_special_characters(text)\n",
    "    text = to_lowercase(text)\n",
    "    return text\n",
    "\n",
    "df['Comment'] = df['Comment'].apply(normalize_text)\n",
    "print(df.head())"
   ]
  },
  {
   "cell_type": "code",
   "execution_count": 6,
   "metadata": {},
   "outputs": [],
   "source": [
    "# Extract the list of reviews X\n",
    "X = df['Comment'].values.tolist()\n",
    "# Extract the labels y\n",
    "y = df['Sentiment'].values.tolist()"
   ]
  },
  {
   "cell_type": "markdown",
   "metadata": {},
   "source": [
    "# Tách từ, xây dựng bộ từ vựng và mã hóa"
   ]
  },
  {
   "cell_type": "code",
   "execution_count": 7,
   "metadata": {},
   "outputs": [],
   "source": [
    "#Xây dựng hàm token từ underthesea\n",
    "def tokenize_and_build_vocab_vietnamese(comment):\n",
    "    tokens = word_tokenize(comment, format=\"text\")\n",
    "    return tokens.split()"
   ]
  },
  {
   "cell_type": "code",
   "execution_count": 8,
   "metadata": {},
   "outputs": [],
   "source": [
    "vectorizer = TfidfVectorizer(tokenizer=tokenize_and_build_vocab_vietnamese, token_pattern=None,\n",
    "                              max_features=5000, ngram_range=(1, 2), max_df=0.85, min_df=5)\n",
    "# Fit and transform the data\n",
    "X_tfidf = vectorizer.fit_transform(X)\n",
    "vocabulary = vectorizer.get_feature_names_out()"
   ]
  },
  {
   "cell_type": "markdown",
   "metadata": {},
   "source": [
    "# Mã hóa cho cột nhãn"
   ]
  },
  {
   "cell_type": "code",
   "execution_count": 9,
   "metadata": {},
   "outputs": [],
   "source": [
    "label_encoder = LabelEncoder()\n",
    "y = label_encoder.fit_transform(y)"
   ]
  },
  {
   "cell_type": "markdown",
   "metadata": {},
   "source": [
    "# Cân bằng dữ liệu"
   ]
  },
  {
   "cell_type": "code",
   "execution_count": 10,
   "metadata": {},
   "outputs": [
    {
     "name": "stdout",
     "output_type": "stream",
     "text": [
      "Trước khi cân bằng: Counter({2: 832, 0: 428, 1: 238})\n",
      "Sau khi cân bằng: Counter({2: 832, 0: 832, 1: 832})\n"
     ]
    }
   ],
   "source": [
    "#Sử dụng SMOTE để cân bằng dữ liệu\n",
    "\n",
    "print('Trước khi cân bằng:', Counter(y))\n",
    "\n",
    "smote = SMOTE(random_state=42)\n",
    "X_resampled, y_resampled = smote.fit_resample(X_tfidf, y)\n",
    "\n",
    "print('Sau khi cân bằng:', Counter(y_resampled))\n"
   ]
  },
  {
   "cell_type": "code",
   "execution_count": 11,
   "metadata": {},
   "outputs": [
    {
     "name": "stdout",
     "output_type": "stream",
     "text": [
      "Kích thước dữ liệu ban đầu: (1498, 1200)\n",
      "Kích thước dữ liệu sau khi cân bằng: (2496, 1200)\n",
      "Trước khi cân bằng: Counter({2: 832, 0: 428, 1: 238})\n",
      "Sau khi cân bằng: Counter({2: 832, 0: 832, 1: 832})\n"
     ]
    }
   ],
   "source": [
    "print('Kích thước dữ liệu ban đầu:', X_tfidf.shape)\n",
    "print('Kích thước dữ liệu sau khi cân bằng:', X_resampled.shape)\n",
    "# In ra số lượng mẫu của từng nhãn trước và sau khi cân bằng\n",
    "print('Trước khi cân bằng:', Counter(y))\n",
    "print('Sau khi cân bằng:', Counter(y_resampled))"
   ]
  },
  {
   "cell_type": "markdown",
   "metadata": {},
   "source": [
    "# Chia tập dữ liệu"
   ]
  },
  {
   "cell_type": "code",
   "execution_count": 12,
   "metadata": {},
   "outputs": [],
   "source": [
    "# Chia tập dữ liệu thành tập huấn luyện và tập validation (validation + test)\n",
    "X_train_temp, X_test, y_train_temp, y_test = train_test_split(X_resampled, y_resampled, test_size=0.25, random_state=42)\n",
    "\n",
    "# Chia tập tạm thời thành tập validation và tập test cuối cùng\n",
    "X_train, X_val, y_train, y_val = train_test_split(X_train_temp, y_train_temp, test_size=0.2, random_state=42)"
   ]
  },
  {
   "cell_type": "code",
   "execution_count": 13,
   "metadata": {},
   "outputs": [],
   "source": [
    "# Convert sparse matrix to array\n",
    "X_train = X_train.toarray()\n",
    "X_val = X_val.toarray()\n",
    "X_test = X_test.toarray()"
   ]
  },
  {
   "cell_type": "markdown",
   "metadata": {},
   "source": [
    "# Xây dựng mô hình LSTM"
   ]
  },
  {
   "cell_type": "code",
   "execution_count": 14,
   "metadata": {},
   "outputs": [],
   "source": [
    "# Build the model\n",
    "model = Sequential()\n",
    "model.add(Dense(128, activation='relu', input_shape=(X_train.shape[1],)))\n",
    "model.add(Dropout(0.2))\n",
    "model.add(Dense(64, activation='relu'))\n",
    "model.add(Dropout(0.2))\n",
    "model.add(Dense(3, activation='softmax'))\n",
    "\n",
    "model.compile(loss='sparse_categorical_crossentropy', optimizer='adam', metrics=['accuracy'])"
   ]
  },
  {
   "cell_type": "code",
   "execution_count": 15,
   "metadata": {},
   "outputs": [
    {
     "name": "stdout",
     "output_type": "stream",
     "text": [
      "Epoch 1/10\n",
      "24/24 [==============================] - 3s 29ms/step - loss: 1.0654 - accuracy: 0.4903 - val_loss: 0.9961 - val_accuracy: 0.7707\n",
      "Epoch 2/10\n",
      "24/24 [==============================] - 0s 9ms/step - loss: 0.8682 - accuracy: 0.8123 - val_loss: 0.7104 - val_accuracy: 0.8373\n",
      "Epoch 3/10\n",
      "24/24 [==============================] - 0s 9ms/step - loss: 0.5218 - accuracy: 0.8831 - val_loss: 0.4366 - val_accuracy: 0.8613\n",
      "Epoch 4/10\n",
      "24/24 [==============================] - 0s 12ms/step - loss: 0.2971 - accuracy: 0.9245 - val_loss: 0.3400 - val_accuracy: 0.8773\n",
      "Epoch 5/10\n",
      "24/24 [==============================] - 0s 13ms/step - loss: 0.1805 - accuracy: 0.9539 - val_loss: 0.3084 - val_accuracy: 0.8827\n",
      "Epoch 6/10\n",
      "24/24 [==============================] - 0s 12ms/step - loss: 0.1212 - accuracy: 0.9686 - val_loss: 0.2944 - val_accuracy: 0.8880\n",
      "Epoch 7/10\n",
      "24/24 [==============================] - 0s 10ms/step - loss: 0.0786 - accuracy: 0.9866 - val_loss: 0.2860 - val_accuracy: 0.8907\n",
      "Epoch 8/10\n",
      "24/24 [==============================] - 0s 10ms/step - loss: 0.0540 - accuracy: 0.9906 - val_loss: 0.2977 - val_accuracy: 0.8907\n",
      "Epoch 9/10\n",
      "24/24 [==============================] - 0s 8ms/step - loss: 0.0381 - accuracy: 0.9940 - val_loss: 0.3110 - val_accuracy: 0.8960\n",
      "Epoch 10/10\n",
      "24/24 [==============================] - 0s 9ms/step - loss: 0.0288 - accuracy: 0.9973 - val_loss: 0.3280 - val_accuracy: 0.8880\n"
     ]
    }
   ],
   "source": [
    "# Train the model\n",
    "epochs = 10\n",
    "batch_size = 64\n",
    "\n",
    "history = model.fit(X_train, y_train, epochs=epochs, batch_size=batch_size, validation_data=(X_val, y_val),\n",
    "                    callbacks=[EarlyStopping(monitor='val_loss', patience=3, min_delta=0.0001)])"
   ]
  },
  {
   "cell_type": "markdown",
   "metadata": {},
   "source": [
    "# Kiểm thử và dự đoán mô hình"
   ]
  },
  {
   "cell_type": "code",
   "execution_count": 16,
   "metadata": {},
   "outputs": [
    {
     "name": "stdout",
     "output_type": "stream",
     "text": [
      "20/20 [==============================] - 0s 3ms/step - loss: 0.2724 - accuracy: 0.9215\n",
      "Test Score: 0.2723843455314636\n",
      "Test Accuracy: 0.9214743375778198\n"
     ]
    }
   ],
   "source": [
    "# Evaluate the model\n",
    "score = model.evaluate(X_test, y_test, verbose=1)\n",
    "print(\"Test Score:\", score[0])\n",
    "print(\"Test Accuracy:\", score[1])"
   ]
  },
  {
   "cell_type": "code",
   "execution_count": 17,
   "metadata": {},
   "outputs": [
    {
     "name": "stdout",
     "output_type": "stream",
     "text": [
      "1/1 [==============================] - 0s 403ms/step\n",
      "Đánh giá: shop có cho đổi điện thoại không\n",
      "Dự đoán cảm xúc: 1\n"
     ]
    }
   ],
   "source": [
    "# Định nghĩa các hàm tiền xử lý giống như trước\n",
    "def remove_special_characters(text):\n",
    "    return re.sub(r'[^a-zA-ZÀ-ỹà-ỹ0-9\\s]', '', text)\n",
    "\n",
    "def to_lowercase(text):\n",
    "    return text.lower()\n",
    "\n",
    "def normalize_text(text):\n",
    "    text = remove_special_characters(text)\n",
    "    text = to_lowercase(text)\n",
    "    return text\n",
    "\n",
    "def tokenize_and_build_vocab_vietnamese(comment):\n",
    "    tokens = word_tokenize(comment, format=\"text\")\n",
    "    return tokens.split()\n",
    "\n",
    "# Đánh giá mới cần kiểm thử\n",
    "new_review = \"Shop có cho đổi điện thoại không?\"\n",
    "\n",
    "# Tiền xử lý đánh giá mới\n",
    "new_review = normalize_text(new_review)\n",
    "\n",
    "# Chuyển đổi đánh giá mới sang TF-IDF\n",
    "new_review_tfidf = vectorizer.transform([new_review]).toarray()\n",
    "\n",
    "# Dự đoán nhãn cho đánh giá mới\n",
    "prediction = model.predict(new_review_tfidf)\n",
    "predicted_label = np.argmax(prediction, axis=1)\n",
    "\n",
    "# Chuyển đổi nhãn dự đoán từ số sang tên\n",
    "predicted_sentiment = label_encoder.inverse_transform(predicted_label)\n",
    "print(f\"Đánh giá: {new_review}\")\n",
    "print(f\"Dự đoán cảm xúc: {predicted_sentiment[0]}\")\n"
   ]
  },
  {
   "cell_type": "code",
   "execution_count": 18,
   "metadata": {},
   "outputs": [
    {
     "name": "stdout",
     "output_type": "stream",
     "text": [
      "20/20 [==============================] - 0s 3ms/step\n",
      "              precision    recall  f1-score   support\n",
      "\n",
      "           0       0.94      0.92      0.93       209\n",
      "           1       0.85      0.98      0.91       204\n",
      "           2       0.99      0.87      0.93       211\n",
      "\n",
      "    accuracy                           0.92       624\n",
      "   macro avg       0.93      0.92      0.92       624\n",
      "weighted avg       0.93      0.92      0.92       624\n",
      "\n"
     ]
    }
   ],
   "source": [
    "# Báo cáo đánh giá mô hình\n",
    "y_pred = model.predict(X_test)\n",
    "y_pred_classes = np.argmax(y_pred, axis=1)\n",
    "print(classification_report(y_test, y_pred_classes, target_names=label_encoder.classes_))"
   ]
  }
 ],
 "metadata": {
  "kernelspec": {
   "display_name": "base",
   "language": "python",
   "name": "python3"
  },
  "language_info": {
   "codemirror_mode": {
    "name": "ipython",
    "version": 3
   },
   "file_extension": ".py",
   "mimetype": "text/x-python",
   "name": "python",
   "nbconvert_exporter": "python",
   "pygments_lexer": "ipython3",
   "version": "3.11.7"
  }
 },
 "nbformat": 4,
 "nbformat_minor": 2
}
