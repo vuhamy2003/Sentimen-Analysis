{
 "cells": [
  {
   "cell_type": "code",
   "execution_count": 1,
   "metadata": {},
   "outputs": [],
   "source": [
    "import pandas as pd\n",
    "import numpy as np\n",
    "import re\n",
    "from underthesea import word_tokenize\n",
    "from collections import Counter\n",
    "from sklearn.preprocessing import LabelEncoder\n",
    "from sklearn.model_selection import train_test_split\n",
    "from sklearn.feature_extraction.text import TfidfVectorizer\n",
    "from imblearn.over_sampling import SMOTE\n",
    "from tensorflow.keras.models import Sequential\n",
    "from tensorflow.keras.layers import Dense, Dropout\n",
    "from tensorflow.keras.callbacks import EarlyStopping\n",
    "from sklearn.metrics import classification_report"
   ]
  },
  {
   "cell_type": "code",
   "execution_count": 2,
   "metadata": {},
   "outputs": [],
   "source": [
    "# Nhập dữ liệu\n",
    "df = pd.read_csv('./data/product_df.csv')\n",
    "df = df[['Star Rating', 'Comment']]\n"
   ]
  },
  {
   "cell_type": "code",
   "execution_count": 3,
   "metadata": {},
   "outputs": [],
   "source": [
    "# Gắn nhãn cho bộ dữ liệu\n",
    "def label_sentiment(rating):\n",
    "    if rating in [1, 2]:\n",
    "        return '0'\n",
    "    elif rating == 3:\n",
    "        return '1'\n",
    "    elif rating in [4, 5]:\n",
    "        return '2'\n",
    "    else:\n",
    "        return '3'  # Nếu có xếp hạng nằm ngoài khoảng 1-5\n",
    "\n",
    "df['Sentiment'] = df['Star Rating'].apply(label_sentiment)"
   ]
  },
  {
   "cell_type": "code",
   "execution_count": 4,
   "metadata": {},
   "outputs": [],
   "source": [
    "# Kiểm tra và loại bỏ giá trị khuyết thiếu\n",
    "df = df.dropna(subset=['Comment'])\n",
    "\n",
    "# Kiểm tra và loại bỏ dữ liệu trùng lặp\n",
    "df = df.drop_duplicates(['Comment'])"
   ]
  },
  {
   "cell_type": "code",
   "execution_count": 5,
   "metadata": {},
   "outputs": [],
   "source": [
    "# Chuẩn hóa và làm sạch văn bản\n",
    "def remove_special_characters(text):\n",
    "    return re.sub(r'[^a-zA-ZÀ-ỹà-ỹ0-9\\s]', '', text)\n",
    "\n",
    "def to_lowercase(text):\n",
    "    return text.lower()\n",
    "\n",
    "def normalize_text(text):\n",
    "    text = remove_special_characters(text)\n",
    "    text = to_lowercase(text)\n",
    "    return text\n",
    "\n",
    "df['Comment'] = df['Comment'].apply(normalize_text)"
   ]
  },
  {
   "cell_type": "code",
   "execution_count": 6,
   "metadata": {},
   "outputs": [],
   "source": [
    "# Xây dựng hàm token từ underthesea\n",
    "def tokenize_and_build_vocab_vietnamese(comment):\n",
    "    tokens = word_tokenize(comment, format=\"text\")\n",
    "    return tokens.split()\n",
    "\n",
    "vectorizer = TfidfVectorizer(tokenizer=tokenize_and_build_vocab_vietnamese, token_pattern=None,\n",
    "                              max_features=5000, ngram_range=(1, 2), max_df=0.85, min_df=5)\n",
    "\n",
    "# Fit and transform the data\n",
    "X_tfidf = vectorizer.fit_transform(df['Comment'].values.tolist())"
   ]
  },
  {
   "cell_type": "code",
   "execution_count": 7,
   "metadata": {},
   "outputs": [],
   "source": [
    "# Mã hóa cho cột nhãn\n",
    "label_encoder = LabelEncoder()\n",
    "y = label_encoder.fit_transform(df['Sentiment'].values.tolist())"
   ]
  },
  {
   "cell_type": "code",
   "execution_count": 8,
   "metadata": {},
   "outputs": [
    {
     "name": "stdout",
     "output_type": "stream",
     "text": [
      "Trước khi cân bằng: Counter({2: 832, 0: 428, 1: 238})\n",
      "Sau khi cân bằng: Counter({2: 832, 0: 832, 1: 832})\n"
     ]
    }
   ],
   "source": [
    "# Cân bằng dữ liệu\n",
    "print('Trước khi cân bằng:', Counter(y))\n",
    "smote = SMOTE(random_state=42)\n",
    "X_resampled, y_resampled = smote.fit_resample(X_tfidf, y)\n",
    "print('Sau khi cân bằng:', Counter(y_resampled))"
   ]
  },
  {
   "cell_type": "code",
   "execution_count": 9,
   "metadata": {},
   "outputs": [],
   "source": [
    "# Chia tập dữ liệu thành tập huấn luyện và tập validation (validation + test)\n",
    "X_train_temp, X_test, y_train_temp, y_test = train_test_split(X_resampled, y_resampled, test_size=0.25, random_state=42)\n",
    "X_train, X_val, y_train, y_val = train_test_split(X_train_temp, y_train_temp, test_size=0.2, random_state=42)\n",
    "\n",
    "# Convert sparse matrix to array\n",
    "X_train = X_train.toarray()\n",
    "X_val = X_val.toarray()\n",
    "X_test = X_test.toarray()"
   ]
  },
  {
   "cell_type": "code",
   "execution_count": 10,
   "metadata": {},
   "outputs": [],
   "source": [
    "# Build the model\n",
    "model = Sequential()\n",
    "model.add(Dense(128, activation='relu', input_shape=(X_train.shape[1],)))\n",
    "model.add(Dropout(0.2))\n",
    "model.add(Dense(64, activation='relu'))\n",
    "model.add(Dropout(0.2))\n",
    "model.add(Dense(3, activation='softmax'))\n",
    "\n",
    "model.compile(loss='sparse_categorical_crossentropy', optimizer='adam', metrics=['accuracy'])\n"
   ]
  },
  {
   "cell_type": "code",
   "execution_count": 11,
   "metadata": {},
   "outputs": [
    {
     "name": "stdout",
     "output_type": "stream",
     "text": [
      "Epoch 1/50\n",
      "47/47 [==============================] - 3s 20ms/step - loss: 1.0452 - accuracy: 0.5718 - val_loss: 0.9138 - val_accuracy: 0.7387\n",
      "Epoch 2/50\n",
      "47/47 [==============================] - 0s 8ms/step - loss: 0.6522 - accuracy: 0.8243 - val_loss: 0.4619 - val_accuracy: 0.8560\n",
      "Epoch 3/50\n",
      "47/47 [==============================] - 0s 7ms/step - loss: 0.3006 - accuracy: 0.9078 - val_loss: 0.3157 - val_accuracy: 0.8933\n",
      "Epoch 4/50\n",
      "47/47 [==============================] - 0s 7ms/step - loss: 0.1545 - accuracy: 0.9613 - val_loss: 0.3033 - val_accuracy: 0.9040\n",
      "Epoch 5/50\n",
      "47/47 [==============================] - 0s 7ms/step - loss: 0.0866 - accuracy: 0.9826 - val_loss: 0.2866 - val_accuracy: 0.9093\n",
      "Epoch 6/50\n",
      "47/47 [==============================] - 1s 12ms/step - loss: 0.0505 - accuracy: 0.9933 - val_loss: 0.3017 - val_accuracy: 0.9013\n",
      "Epoch 7/50\n",
      "47/47 [==============================] - 1s 12ms/step - loss: 0.0260 - accuracy: 0.9973 - val_loss: 0.3277 - val_accuracy: 0.8987\n",
      "Epoch 8/50\n",
      "47/47 [==============================] - 0s 7ms/step - loss: 0.0195 - accuracy: 0.9987 - val_loss: 0.3527 - val_accuracy: 0.8907\n",
      "Epoch 9/50\n",
      "47/47 [==============================] - 0s 7ms/step - loss: 0.0137 - accuracy: 1.0000 - val_loss: 0.3452 - val_accuracy: 0.9120\n",
      "Epoch 10/50\n",
      "47/47 [==============================] - 0s 7ms/step - loss: 0.0109 - accuracy: 1.0000 - val_loss: 0.3644 - val_accuracy: 0.9093\n"
     ]
    }
   ],
   "source": [
    "# Train the model\n",
    "epochs = 50  # Tăng số epochs\n",
    "batch_size = 32  # Giảm kích thước batch\n",
    "\n",
    "history = model.fit(X_train, y_train, epochs=epochs, batch_size=batch_size, validation_data=(X_val, y_val),\n",
    "                    callbacks=[EarlyStopping(monitor='val_loss', patience=5, min_delta=0.0001)])\n"
   ]
  },
  {
   "cell_type": "code",
   "execution_count": 12,
   "metadata": {},
   "outputs": [
    {
     "name": "stdout",
     "output_type": "stream",
     "text": [
      "20/20 [==============================] - 0s 5ms/step - loss: 0.2932 - accuracy: 0.9151\n",
      "Test Score: 0.29316678643226624\n",
      "Test Accuracy: 0.9150640964508057\n"
     ]
    }
   ],
   "source": [
    "# Evaluate the model\n",
    "score = model.evaluate(X_test, y_test, verbose=1)\n",
    "print(\"Test Score:\", score[0])\n",
    "print(\"Test Accuracy:\", score[1])"
   ]
  },
  {
   "cell_type": "code",
   "execution_count": 13,
   "metadata": {},
   "outputs": [
    {
     "name": "stdout",
     "output_type": "stream",
     "text": [
      "20/20 [==============================] - 0s 4ms/step\n",
      "              precision    recall  f1-score   support\n",
      "\n",
      "           0       0.94      0.92      0.93       209\n",
      "           1       0.84      0.96      0.90       204\n",
      "           2       0.97      0.87      0.92       211\n",
      "\n",
      "    accuracy                           0.92       624\n",
      "   macro avg       0.92      0.92      0.92       624\n",
      "weighted avg       0.92      0.92      0.92       624\n",
      "\n"
     ]
    }
   ],
   "source": [
    "# Báo cáo đánh giá mô hình\n",
    "y_pred = model.predict(X_test)\n",
    "y_pred_classes = np.argmax(y_pred, axis=1)\n",
    "print(classification_report(y_test, y_pred_classes, target_names=label_encoder.classes_))"
   ]
  },
  {
   "cell_type": "code",
   "execution_count": 14,
   "metadata": {},
   "outputs": [
    {
     "name": "stdout",
     "output_type": "stream",
     "text": [
      "1/1 [==============================] - 0s 340ms/step\n",
      "Đánh giá: shop có cho đổi điện thoại không\n",
      "Dự đoán cảm xúc: 1\n"
     ]
    }
   ],
   "source": [
    "# Đánh giá mới cần kiểm thử\n",
    "new_review = \"Shop có cho đổi điện thoại không?\"\n",
    "\n",
    "# Tiền xử lý đánh giá mới\n",
    "new_review = normalize_text(new_review)\n",
    "\n",
    "# Chuyển đổi đánh giá mới sang TF-IDF\n",
    "new_review_tfidf = vectorizer.transform([new_review]).toarray()\n",
    "\n",
    "# Dự đoán nhãn cho đánh giá mới\n",
    "prediction = model.predict(new_review_tfidf)\n",
    "predicted_label = np.argmax(prediction, axis=1)\n",
    "\n",
    "# Chuyển đổi nhãn dự đoán từ số sang tên\n",
    "predicted_sentiment = label_encoder.inverse_transform(predicted_label)\n",
    "print(f\"Đánh giá: {new_review}\")\n",
    "print(f\"Dự đoán cảm xúc: {predicted_sentiment[0]}\")"
   ]
  }
 ],
 "metadata": {
  "kernelspec": {
   "display_name": "base",
   "language": "python",
   "name": "python3"
  },
  "language_info": {
   "codemirror_mode": {
    "name": "ipython",
    "version": 3
   },
   "file_extension": ".py",
   "mimetype": "text/x-python",
   "name": "python",
   "nbconvert_exporter": "python",
   "pygments_lexer": "ipython3",
   "version": "3.11.7"
  }
 },
 "nbformat": 4,
 "nbformat_minor": 2
}
