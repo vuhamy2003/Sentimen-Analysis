{
 "cells": [
  {
   "cell_type": "code",
   "execution_count": 1,
   "metadata": {},
   "outputs": [],
   "source": [
    "import pandas as pd\n",
    "import numpy as np"
   ]
  },
  {
   "cell_type": "code",
   "execution_count": 2,
   "metadata": {},
   "outputs": [],
   "source": [
    "df=pd.read_csv('./data/product_df.csv')"
   ]
  },
  {
   "cell_type": "code",
   "execution_count": 4,
   "metadata": {},
   "outputs": [],
   "source": [
    "import re\n",
    "\n",
    "def remove_special_characters(text):\n",
    "    # Loại bỏ các ký tự đặc biệt, giữ lại chữ cái, số, và các dấu câu\n",
    "    return re.sub(r'[^a-zA-ZÀ-ỹà-ỹ0-9\\s.,!?]', '', text)\n",
    "\n",
    "def to_lowercase(text):\n",
    "    # Chuyển đổi văn bản về chữ thường\n",
    "    return text.lower()\n",
    "\n",
    "def add_space_around_punctuation(text):\n",
    "    # Tạo khoảng cách giữa từ và dấu câu\n",
    "    text = re.sub(r'([.,!?])', r' \\1 ', text)\n",
    "    text = re.sub(r'\\s{2,}', ' ', text)  # Loại bỏ khoảng trắng thừa\n",
    "    return text\n",
    "\n",
    "def clean_text(text):\n",
    "    text = remove_special_characters(text)\n",
    "    text = to_lowercase(text)\n",
    "    text = add_space_around_punctuation(text)\n",
    "    return text"
   ]
  },
  {
   "cell_type": "code",
   "execution_count": 5,
   "metadata": {},
   "outputs": [
    {
     "name": "stdout",
     "output_type": "stream",
     "text": [
      "      Star Rating                                            Comment  \\\n",
      "0               4                      điện thoại này dùng rất thích   \n",
      "1               4                               sử dụng thấy cũng ok   \n",
      "2               2                     bảo hành ít quá , chỉ 12 tháng   \n",
      "3               5                            sản phẩm mượt , chạy êm   \n",
      "4               3  cho mình hỏi muốn khởi động lại máy hay tắt ng...   \n",
      "...           ...                                                ...   \n",
      "1539            1  đem máy ra cho nhân viên xem mà về máy vẫn nón...   \n",
      "1540            3                       cũng được dù pin xuống nhanh   \n",
      "1541            1  hơi hối hận khi mua máy vội mà chưa tìm hiểu k...   \n",
      "1542            4  chụp ảnh ổn , điện tử ổn , màn hình đẹp , pin ...   \n",
      "1543            5  mua mới đã là ios 17 rồi nhé . nhân viên tư vấ...   \n",
      "\n",
      "     Unnamed: 2  \n",
      "0           NaN  \n",
      "1           NaN  \n",
      "2           NaN  \n",
      "3           NaN  \n",
      "4           NaN  \n",
      "...         ...  \n",
      "1539        NaN  \n",
      "1540        NaN  \n",
      "1541        NaN  \n",
      "1542        NaN  \n",
      "1543        NaN  \n",
      "\n",
      "[1544 rows x 3 columns]\n"
     ]
    }
   ],
   "source": [
    "# Áp dụng hàm clean_text và thay thế cột 'comment'\n",
    "df['Comment'] = df['Comment'].apply(clean_text)\n",
    "\n",
    "# In DataFrame sau khi làm sạch\n",
    "print(df)"
   ]
  },
  {
   "cell_type": "code",
   "execution_count": null,
   "metadata": {},
   "outputs": [],
   "source": [
    "# Đọc tệp và lưu các từ dừng vào một danh sách\n",
    "stopwords = []\n",
    "with open('vietnamese-stopwords.txt', 'r', encoding='utf-8') as file:\n",
    "    stopwords = file.read().splitlines()\n",
    "\n",
    "print(f'Number of stopwords: {len(stopwords)}')\n",
    "print(f'First 10 stopwords: {stopwords[:10]}')"
   ]
  }
 ],
 "metadata": {
  "kernelspec": {
   "display_name": "Python 3",
   "language": "python",
   "name": "python3"
  },
  "language_info": {
   "codemirror_mode": {
    "name": "ipython",
    "version": 3
   },
   "file_extension": ".py",
   "mimetype": "text/x-python",
   "name": "python",
   "nbconvert_exporter": "python",
   "pygments_lexer": "ipython3",
   "version": "3.10.11"
  }
 },
 "nbformat": 4,
 "nbformat_minor": 2
}
