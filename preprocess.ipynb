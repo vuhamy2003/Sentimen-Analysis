{
 "cells": [
  {
   "cell_type": "code",
   "execution_count": 1,
   "metadata": {},
   "outputs": [],
   "source": [
    "import pandas as pd\n",
    "import numpy as np"
   ]
  },
  {
   "cell_type": "code",
   "execution_count": 5,
   "metadata": {},
   "outputs": [],
   "source": [
    "df=pd.read_csv('./data/product_reviews.csv')"
   ]
  },
  {
   "cell_type": "code",
   "execution_count": 6,
   "metadata": {},
   "outputs": [
    {
     "name": "stdout",
     "output_type": "stream",
     "text": [
      "   Star Rating                                            Comment\n",
      "0            4  Mình mới mua đt này giờ trải nghiệm xong rồi m...\n",
      "1            4  xài thấy cũng ok ....để xem một thời gian như ...\n",
      "2            5                       Sao mua thấy bảo hành có 12t\n",
      "3            5  Sản phẩm mượt, chạy êm. Hơi tiếc vì mua sớm vớ...\n",
      "4            5  Cho mình hỏi muốn khởi động lại máy hay tắt ng...\n"
     ]
    }
   ],
   "source": [
    "df= df[['Star Rating', 'Comment']]\n",
    "\n",
    "print(df.head())"
   ]
  },
  {
   "cell_type": "code",
   "execution_count": 7,
   "metadata": {},
   "outputs": [
    {
     "name": "stdout",
     "output_type": "stream",
     "text": [
      "<class 'pandas.core.frame.DataFrame'>\n",
      "RangeIndex: 4011 entries, 0 to 4010\n",
      "Data columns (total 2 columns):\n",
      " #   Column       Non-Null Count  Dtype \n",
      "---  ------       --------------  ----- \n",
      " 0   Star Rating  4011 non-null   int64 \n",
      " 1   Comment      3683 non-null   object\n",
      "dtypes: int64(1), object(1)\n",
      "memory usage: 62.8+ KB\n"
     ]
    }
   ],
   "source": [
    "df.info()"
   ]
  },
  {
   "cell_type": "code",
   "execution_count": 8,
   "metadata": {},
   "outputs": [
    {
     "name": "stdout",
     "output_type": "stream",
     "text": [
      "Star Rating      0\n",
      "Comment        328\n",
      "dtype: int64\n"
     ]
    }
   ],
   "source": [
    "#Kiểm tra dữ liệu khuyết thiếu\n",
    "print(df.isnull().sum())"
   ]
  },
  {
   "cell_type": "code",
   "execution_count": 9,
   "metadata": {},
   "outputs": [
    {
     "name": "stdout",
     "output_type": "stream",
     "text": [
      "<class 'pandas.core.frame.DataFrame'>\n",
      "Index: 3683 entries, 0 to 4010\n",
      "Data columns (total 2 columns):\n",
      " #   Column       Non-Null Count  Dtype \n",
      "---  ------       --------------  ----- \n",
      " 0   Star Rating  3683 non-null   int64 \n",
      " 1   Comment      3683 non-null   object\n",
      "dtypes: int64(1), object(1)\n",
      "memory usage: 86.3+ KB\n"
     ]
    }
   ],
   "source": [
    "df = df.dropna()\n",
    "df.info()"
   ]
  },
  {
   "cell_type": "code",
   "execution_count": 10,
   "metadata": {},
   "outputs": [
    {
     "name": "stdout",
     "output_type": "stream",
     "text": [
      "Các dòng dữ liệu trùng lặp trong cột 'Comment':\n",
      "      Star Rating                                            Comment\n",
      "29              5                                                 Ok\n",
      "74              5                                                 Ok\n",
      "81              4                                                 Ok\n",
      "84              5                                            Rất tốt\n",
      "86              5                                            Rất tốt\n",
      "...           ...                                                ...\n",
      "4006            5                              Đt tốt, nhanh, mượt ạ\n",
      "4007            4  Mình chưa khám phá hết các chức năng. Thấy tuy...\n",
      "4008            5                                         Máy OK lắm\n",
      "4009            5                                                 ok\n",
      "4010            4                                                 ok\n",
      "\n",
      "[2163 rows x 2 columns]\n"
     ]
    }
   ],
   "source": [
    "duplicate_comments = df[df.duplicated(['Comment'])]\n",
    "print(\"Các dòng dữ liệu trùng lặp trong cột 'Comment':\")\n",
    "print(duplicate_comments)"
   ]
  },
  {
   "cell_type": "code",
   "execution_count": 12,
   "metadata": {},
   "outputs": [],
   "source": [
    "df_unique_comments = df.drop_duplicates(['Comment'])\n",
    "df_unique_comments.shape\n",
    "df_unique_comments.to_csv('./data/dataframe_info.csv', index=False)"
   ]
  }
 ],
 "metadata": {
  "kernelspec": {
   "display_name": "base",
   "language": "python",
   "name": "python3"
  },
  "language_info": {
   "codemirror_mode": {
    "name": "ipython",
    "version": 3
   },
   "file_extension": ".py",
   "mimetype": "text/x-python",
   "name": "python",
   "nbconvert_exporter": "python",
   "pygments_lexer": "ipython3",
   "version": "3.11.7"
  }
 },
 "nbformat": 4,
 "nbformat_minor": 2
}
