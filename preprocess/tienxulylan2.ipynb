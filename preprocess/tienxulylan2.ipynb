{
 "cells": [
  {
   "cell_type": "code",
   "execution_count": 13,
   "metadata": {},
   "outputs": [],
   "source": [
    "import nltk\n",
    "from nltk.tokenize import word_tokenize\n",
    "from nltk.probability import FreqDist\n",
    "from gensim.models import Word2Vec\n",
    "from gensim.models import KeyedVectors\n",
    "import pandas as pd\n",
    "import numpy as np\n",
    "import re"
   ]
  },
  {
   "cell_type": "code",
   "execution_count": 2,
   "metadata": {},
   "outputs": [],
   "source": [
    "# Load data\n",
    "df = pd.read_csv('../data/product_df.csv')\n",
    "df = df[['Star Rating', 'Comment']]"
   ]
  },
  {
   "cell_type": "code",
   "execution_count": 3,
   "metadata": {},
   "outputs": [
    {
     "name": "stdout",
     "output_type": "stream",
     "text": [
      "Star Rating    0\n",
      "Comment        0\n",
      "dtype: int64\n"
     ]
    }
   ],
   "source": [
    "# Kiểm tra và loại bỏ giá trị khuyết thiếu\n",
    "print(df.isnull().sum())\n",
    "df = df.dropna(subset=['Comment'])"
   ]
  },
  {
   "cell_type": "code",
   "execution_count": 4,
   "metadata": {},
   "outputs": [
    {
     "name": "stdout",
     "output_type": "stream",
     "text": [
      "Các dòng dữ liệu trùng lặp trong cột 'Comment':\n",
      "      Star Rating                                   Comment\n",
      "48              4                                   Rất tốt\n",
      "76              5                                    Rất ok\n",
      "107             2                             pin tụt nhanh\n",
      "135             5                              sản phẩm tốt\n",
      "173             2                             hao pin nhanh\n",
      "177             5                              sản phẩm tốt\n",
      "181             5                                    Rất ok\n",
      "183             5                              sản phẩm tốt\n",
      "192             5                               sản phẩm ok\n",
      "205             5                               máy dùng ok\n",
      "225             4                                       Tốt\n",
      "227             5                               sản phẩm ok\n",
      "237             5                               máy dùng ok\n",
      "250             5                              sản phẩm tốt\n",
      "426             4                              máy dùng tốt\n",
      "435             5                                   Rất tốt\n",
      "461             4                                       Tốt\n",
      "516             5                                       Tốt\n",
      "526             4                                       Tốt\n",
      "529             4                                    Tạm ổn\n",
      "547             5                              Sản phẩm tốt\n",
      "549             5                                  Cũng tốt\n",
      "568             4                                  Hài lòng\n",
      "570             5                          Máy dùng rất tốt\n",
      "592             5                                       Tốt\n",
      "647             5                                   Rất tốt\n",
      "683             5                                       Tốt\n",
      "744             5                                       Tốt\n",
      "976             5                          Máy dùng rất tốt\n",
      "982             4                                 Tuyệt vời\n",
      "1153            5                                      Tốt.\n",
      "1160            5                          Máy sử dụng tốt.\n",
      "1163            5                                      Tốt.\n",
      "1237            5                                 Khá được.\n",
      "1244            4                                     Được.\n",
      "1260            5                             Rất hài lòng.\n",
      "1271            4                     Hiện tại sử dụng tốt.\n",
      "1272            5                         Tôi rất hài lòng.\n",
      "1273            4  Sản phẩm được. Hợp túi tiền dùng tạm ổn.\n",
      "1280            5                             Rất hài lòng.\n",
      "1283            5                                     Được.\n",
      "1311            5                             Dùng rất tốt.\n",
      "1328            5                  Điện thoại dùng rất tốt.\n",
      "1338            4                             Sản phẩm tốt.\n",
      "1409            5                                     Được.\n",
      "1443            4                                 Dùng tốt.\n",
      "Shape after dropping duplicates: (1498, 2)\n"
     ]
    }
   ],
   "source": [
    "# Kiểm tra và loại bỏ dữ liệu trùng lặp\n",
    "duplicate_comments = df[df.duplicated(['Comment'])]\n",
    "print(\"Các dòng dữ liệu trùng lặp trong cột 'Comment':\")\n",
    "print(duplicate_comments)\n",
    "df = df.drop_duplicates(['Comment'])\n",
    "print(\"Shape after dropping duplicates:\", df.shape)"
   ]
  },
  {
   "cell_type": "code",
   "execution_count": 5,
   "metadata": {},
   "outputs": [
    {
     "name": "stdout",
     "output_type": "stream",
     "text": [
      "   Star Rating                                            Comment\n",
      "0            4                      điện thoại này dùng rất thích\n",
      "1            4                               sử dụng thấy cũng ok\n",
      "2            2                     bảo hành ít quá , chỉ 12 tháng\n",
      "3            5                            sản phẩm mượt , chạy êm\n",
      "4            3  cho mình hỏi muốn khởi động lại máy hay tắt ng...\n"
     ]
    }
   ],
   "source": [
    "# Chuẩn hóa và làm sạch văn bản\n",
    "def remove_special_characters(text):\n",
    "    # Loại bỏ các ký tự đặc biệt, giữ lại chữ cái, số, và các dấu câu\n",
    "    return re.sub(r'[^a-zA-ZÀ-ỹà-ỹ0-9\\s.,!?]', '', text)\n",
    "\n",
    "def to_lowercase(text):\n",
    "    # Chuyển đổi văn bản về chữ thường\n",
    "    return text.lower()\n",
    "\n",
    "def add_space_around_punctuation(text):\n",
    "    # Tạo khoảng cách giữa từ và dấu câu\n",
    "    text = re.sub(r'([.,!?])', r' \\1 ', text)\n",
    "    text = re.sub(r'\\s{2,}', ' ', text) # Loại bỏ khoảng trắng thừa\n",
    "    return text\n",
    "\n",
    "def normalize_text(text):\n",
    "    text = remove_special_characters(text)\n",
    "    text = to_lowercase(text)\n",
    "    text = add_space_around_punctuation(text)\n",
    "    return text\n",
    "\n",
    "df['Comment'] = df['Comment'].apply(normalize_text)\n",
    "print(df.head())"
   ]
  },
  {
   "cell_type": "code",
   "execution_count": 6,
   "metadata": {},
   "outputs": [],
   "source": [
    "# # Loại bỏ stopwords\n",
    "# with open('vietnamese-stopwords.txt', 'r', encoding='utf-8') as f:\n",
    "#     stopwords = f.readlines()\n",
    "# stopwords = [word.strip() for word in stopwords]\n",
    "\n",
    "# def remove_stopwords(comment):\n",
    "#     words = comment.split()\n",
    "#     cleaned_words = [word for word in words if word.lower() not in stopwords]\n",
    "#     return ' '.join(cleaned_words)\n",
    "\n",
    "# df['Comment'] = df['Comment'].apply(remove_stopwords)\n",
    "# print(df.head())"
   ]
  },
  {
   "cell_type": "code",
   "execution_count": 7,
   "metadata": {},
   "outputs": [
    {
     "name": "stderr",
     "output_type": "stream",
     "text": [
      "[nltk_data] Downloading package punkt to\n",
      "[nltk_data]     C:\\Users\\vuhamy\\AppData\\Roaming\\nltk_data...\n",
      "[nltk_data]   Package punkt is already up-to-date!\n"
     ]
    },
    {
     "name": "stdout",
     "output_type": "stream",
     "text": [
      "Tổng số từ duy nhất: 1751\n",
      "Các từ và tần suất xuất hiện:\n",
      ".: 1684\n",
      ",: 1508\n",
      "máy: 775\n",
      "không: 674\n",
      "dùng: 595\n",
      "mua: 477\n",
      "pin: 454\n",
      "được: 422\n",
      "rất: 409\n",
      "tốt: 352\n"
     ]
    }
   ],
   "source": [
    "# Tokenization và xây dụng vocab\n",
    "nltk.download('punkt')\n",
    "\n",
    "def tokenize_and_build_vocab(comment):\n",
    "    tokens = word_tokenize(comment)\n",
    "    return tokens\n",
    "\n",
    "df['Tokenized_Comment'] = df['Comment'].apply(tokenize_and_build_vocab)\n",
    "\n",
    "all_tokens = [token for sublist in df['Tokenized_Comment'] for token in sublist]\n",
    "vocab = FreqDist(all_tokens)\n",
    "\n",
    "print(\"Tổng số từ duy nhất:\", len(vocab))\n",
    "print(\"Các từ và tần suất xuất hiện:\")\n",
    "for word, frequency in vocab.most_common(10):  # Print only top 10 words\n",
    "    print(f\"{word}: {frequency}\")\n"
   ]
  },
  {
   "cell_type": "code",
   "execution_count": 14,
   "metadata": {},
   "outputs": [
    {
     "name": "stdout",
     "output_type": "stream",
     "text": [
      "                                   Tokenized_Comment  \\\n",
      "0               [điện, thoại, này, dùng, rất, thích]   \n",
      "1                         [sử, dụng, thấy, cũng, ok]   \n",
      "2            [bảo, hành, ít, quá, ,, chỉ, 12, tháng]   \n",
      "3                     [sản, phẩm, mượt, ,, chạy, êm]   \n",
      "4  [cho, mình, hỏi, muốn, khởi, động, lại, máy, h...   \n",
      "\n",
      "                                     Encoded_Comment  \n",
      "0  [[-0.08860478, -0.02230161, -0.012114897, -0.0...  \n",
      "1  [[0.0056972285, -0.13212787, -0.048384234, 0.0...  \n",
      "2  [[-0.07248304, 0.007964071, -0.092036, -0.0315...  \n",
      "3  [[-0.19052374, 0.016779905, 0.04856115, 0.1014...  \n",
      "4  [[0.025698958, 0.13460597, 0.12504221, 0.02369...  \n"
     ]
    }
   ],
   "source": [
    "# Word2Vec encoding\n",
    "model_path = 'word2vec_vi_words_100dims.txt'\n",
    "w2v_model = KeyedVectors.load_word2vec_format(model_path)\n",
    "\n",
    "# Encode comments bằng mô hình Word2Vec\n",
    "def encode_comment(tokens):\n",
    "    vectors = []\n",
    "    for token in tokens:\n",
    "        if token in w2v_model:\n",
    "            vectors.append(w2v_model[token])\n",
    "        else:\n",
    "            vectors.append(np.random.uniform(-0.25, 0.25, w2v_model.vector_size))  # Sử dụng vector ngẫu nhiên thay vì vector 0\n",
    "    return vectors\n",
    "\n",
    "# Apply encoding function\n",
    "df['Encoded_Comment'] = df['Tokenized_Comment'].apply(encode_comment)\n",
    "\n",
    "# Display the result\n",
    "print(df[['Tokenized_Comment', 'Encoded_Comment']].head())"
   ]
  },
  {
   "cell_type": "code",
   "execution_count": 15,
   "metadata": {},
   "outputs": [
    {
     "name": "stdout",
     "output_type": "stream",
     "text": [
      "   Star Rating                                            Comment  \\\n",
      "0            4                      điện thoại này dùng rất thích   \n",
      "1            4                               sử dụng thấy cũng ok   \n",
      "2            2                     bảo hành ít quá , chỉ 12 tháng   \n",
      "3            5                            sản phẩm mượt , chạy êm   \n",
      "4            3  cho mình hỏi muốn khởi động lại máy hay tắt ng...   \n",
      "\n",
      "                                   Tokenized_Comment  \\\n",
      "0               [điện, thoại, này, dùng, rất, thích]   \n",
      "1                         [sử, dụng, thấy, cũng, ok]   \n",
      "2            [bảo, hành, ít, quá, ,, chỉ, 12, tháng]   \n",
      "3                     [sản, phẩm, mượt, ,, chạy, êm]   \n",
      "4  [cho, mình, hỏi, muốn, khởi, động, lại, máy, h...   \n",
      "\n",
      "                                     Encoded_Comment   Sentiment  \n",
      "0  [[-0.08860478, -0.02230161, -0.012114897, -0.0...    tích cực  \n",
      "1  [[0.0056972285, -0.13212787, -0.048384234, 0.0...    tích cực  \n",
      "2  [[-0.07248304, 0.007964071, -0.092036, -0.0315...    tiêu cực  \n",
      "3  [[-0.19052374, 0.016779905, 0.04856115, 0.1014...    tích cực  \n",
      "4  [[0.025698958, 0.13460597, 0.12504221, 0.02369...  trung tính  \n"
     ]
    }
   ],
   "source": [
    "def label_sentiment(rating):\n",
    "    if rating in [1, 2]:\n",
    "        return 'tiêu cực'\n",
    "    elif rating == 3:\n",
    "        return 'trung tính'\n",
    "    elif rating in [4, 5]:\n",
    "        return 'tích cực'\n",
    "    else:\n",
    "        return 'không rõ'  # Nếu có xếp hạng nằm ngoài khoảng 1-5\n",
    "\n",
    "# Gắn nhãn cảm xúc cho mỗi đánh giá\n",
    "df['Sentiment'] = df['Star Rating'].apply(label_sentiment)\n",
    "\n",
    "# Hiển thị 5 hàng đầu tiên của dataframe với cột sentiment mới\n",
    "print(df.head())"
   ]
  },
  {
   "cell_type": "code",
   "execution_count": null,
   "metadata": {},
   "outputs": [
    {
     "data": {
      "image/png": "[encoded data removed]",
      "text/plain": [
       "<Figure size 800x600 with 1 Axes>"
      ]
     },
     "metadata": {},
     "output_type": "display_data"
    }
   ],
   "source": [
    "import matplotlib.pyplot as plt\n",
    "#Đếm số lượng sentiment\n",
    "label_counts = df['Sentiment'].value_counts()\n",
    "\n",
    "# Lấy các nhãn và số lượng tương ứng\n",
    "labels = label_counts.index.tolist()\n",
    "sizes = label_counts.values.tolist()\n",
    "\n",
    "# Chọn màu sắc hài hòa\n",
    "colors = ['#84f5a0', '#f58484', '#84bef5']\n",
    "\n",
    "# Vẽ biểu đồ cột\n",
    "plt.figure(figsize=(8, 6))\n",
    "plt.bar(labels, sizes, color= colors)\n",
    "plt.xlabel('Sentiment')\n",
    "plt.ylabel('Số lượng')\n",
    "plt.title('Tỉ lệ sentiment trong bộ dữ liệu')\n",
    "plt.show()"
   ]
  },
  {
   "cell_type": "code",
   "execution_count": null,
   "metadata": {},
   "outputs": [],
   "source": [
    "df.to_csv('../data/processed_data.csv', index=False)"
   ]
  }
 ],
 "metadata": {
  "kernelspec": {
   "display_name": "base",
   "language": "python",
   "name": "python3"
  },
  "language_info": {
   "codemirror_mode": {
    "name": "ipython",
    "version": 3
   },
   "file_extension": ".py",
   "mimetype": "text/x-python",
   "name": "python",
   "nbconvert_exporter": "python",
   "pygments_lexer": "ipython3",
   "version": "3.11.7"
  }
 },
 "nbformat": 4,
 "nbformat_minor": 2
}
