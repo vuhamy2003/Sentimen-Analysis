{
 "cells": [
  {
   "cell_type": "code",
   "execution_count": 1,
   "metadata": {},
   "outputs": [],
   "source": [
    "import pandas as pd\n",
    "import numpy as np"
   ]
  },
  {
   "cell_type": "code",
   "execution_count": 2,
   "metadata": {},
   "outputs": [],
   "source": [
    "df=pd.read_csv('./data/product_df.csv')"
   ]
  },
  {
   "cell_type": "code",
   "execution_count": 3,
   "metadata": {},
   "outputs": [],
   "source": [
    "import re\n",
    "\n",
    "def clean_text(text):\n",
    "    # Loại bỏ các ký tự đặc biệt\n",
    "    text = re.sub(r'[^\\w\\s]', '', text)\n",
    "    # Chuyển về chữ thường\n",
    "    text = text.lower()\n",
    "    # Loại bỏ số\n",
    "    text = re.sub(r'\\d+', '', text)\n",
    "    return text"
   ]
  },
  {
   "cell_type": "code",
   "execution_count": 6,
   "metadata": {},
   "outputs": [],
   "source": [
    "from pyvi import ViTokenizer\n",
    "\n",
    "def tokenize_text(text):\n",
    "    return ViTokenizer.tokenize(text)"
   ]
  },
  {
   "cell_type": "code",
   "execution_count": 8,
   "metadata": {},
   "outputs": [],
   "source": [
    "def load_stopwords(file_path):\n",
    "    with open(file_path, 'r', encoding='utf-8') as file:\n",
    "        stopwords = set(line.strip() for line in file)\n",
    "    return stopwords\n",
    "\n",
    "def remove_stopwords(text, stopwords):\n",
    "    tokens = text.split()\n",
    "    tokens = [token for token in tokens if token not in stopwords]\n",
    "    return ' '.join(tokens)"
   ]
  },
  {
   "cell_type": "code",
   "execution_count": 9,
   "metadata": {},
   "outputs": [],
   "source": [
    "# Đường dẫn đến tệp stopwords của bạn\n",
    "stopwords_file = 'vietnamese-stopwords.txt'\n",
    "stopwords = load_stopwords(stopwords_file)"
   ]
  },
  {
   "cell_type": "code",
   "execution_count": 13,
   "metadata": {},
   "outputs": [
    {
     "name": "stdout",
     "output_type": "stream",
     "text": [
      "      Star Rating                                            Comment  \\\n",
      "0               4                      Điện thoại này dùng rất thích   \n",
      "1               4                               sử dụng thấy cũng ok   \n",
      "2               2                      Bảo hành ít quá, chỉ 12 tháng   \n",
      "3               5                             Sản phẩm mượt, chạy êm   \n",
      "4               3  Cho mình hỏi muốn khởi động lại máy hay tắt ng...   \n",
      "...           ...                                                ...   \n",
      "1539            1  Đem máy ra cho nhân viên xem mà về máy vẫn nón...   \n",
      "1540            3                       Cũng được dù pin xuống nhanh   \n",
      "1541            1  Hơi hối hận khi mua máy vội mà chưa tìm hiểu k...   \n",
      "1542            4  Chụp ảnh ổn, điện tử ổn, màn hình đẹp, pin bìn...   \n",
      "1543            5  mua mới đã là iOS 17 rồi nhé. Nhân viên tư vấn...   \n",
      "\n",
      "     Unnamed: 2                                   cleaned_comments  \n",
      "0           NaN                               Điện thoại rất thích  \n",
      "1           NaN                                         sử dụng ok  \n",
      "2           NaN                                   Bảo hành quá, 12  \n",
      "3           NaN                             Sản phẩm mượt, chạy êm  \n",
      "4           NaN                     Cho khởi động máy tắt thao tác  \n",
      "...         ...                                                ...  \n",
      "1539        NaN                    Đem máy nhân viên máy nóng thế,  \n",
      "1540        NaN                                           Cũng pin  \n",
      "1541        NaN               Hơi hối hận mua máy vội kĩ, máy chán  \n",
      "1542        NaN  Chụp ảnh ổn, điện tử ổn, màn hình đẹp, pin bìn...  \n",
      "1543        NaN        mua iOS 17 nhé. Nhân viên tư vấn nhiệt tình  \n",
      "\n",
      "[1544 rows x 4 columns]\n"
     ]
    }
   ],
   "source": [
    "# Loại bỏ stopwords từ cột 'comments'\n",
    "df['cleaned_comments'] = df['Comment'].apply(lambda x: remove_stopwords(x, stopwords))\n",
    "\n",
    "print(df)"
   ]
  }
 ],
 "metadata": {
  "kernelspec": {
   "display_name": "base",
   "language": "python",
   "name": "python3"
  },
  "language_info": {
   "codemirror_mode": {
    "name": "ipython",
    "version": 3
   },
   "file_extension": ".py",
   "mimetype": "text/x-python",
   "name": "python",
   "nbconvert_exporter": "python",
   "pygments_lexer": "ipython3",
   "version": "3.11.7"
  }
 },
 "nbformat": 4,
 "nbformat_minor": 2
}
